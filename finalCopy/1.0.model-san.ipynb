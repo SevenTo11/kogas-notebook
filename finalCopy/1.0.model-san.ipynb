{
 "cells": [
  {
   "cell_type": "code",
   "execution_count": 1,
   "id": "1e3f9aca-db69-4b5e-bdea-593ca3b4b287",
   "metadata": {
    "tags": []
   },
   "outputs": [],
   "source": [
    "import pandas as pd\n",
    "import numpy as np\n",
    "import matplotlib.pyplot as plt\n",
    "import matplotlib.dates as mdates\n",
    "import statsmodels.api as sm\n",
    "from statsmodels.tsa.seasonal import seasonal_decompose, STL\n",
    "from statsmodels.tsa.statespace.sarimax import SARIMAX\n",
    "from statsmodels.tsa.arima_process import ArmaProcess\n",
    "from statsmodels.graphics.tsaplots import plot_acf\n",
    "from statsmodels.tsa.stattools import adfuller\n",
    "from statsmodels.tsa.stattools import kpss\n",
    "from sktime.forecasting.ets import AutoETS\n",
    "import warnings\n",
    "warnings.filterwarnings('ignore')\n",
    "%matplotlib inline\n",
    "#from sktime.datasets import load_airline\n",
    "from sktime.forecasting.base import ForecastingHorizon\n",
    "from sktime.forecasting.naive import NaiveForecaster\n",
    "from sktime.utils.plotting import plot_series\n",
    "from sktime.forecasting.structural import UnobservedComponents\n",
    "from sktime.forecasting.theta import ThetaForecaster\n",
    "from sktime.forecasting.exp_smoothing import ExponentialSmoothing\n",
    "from math import *\n",
    "import sys\n",
    "from sklearn.preprocessing import MinMaxScaler\n",
    "from fbprophet import Prophet\n",
    "from fbprophet.plot import plot_plotly, plot_components_plotly \n",
    "from fbprophet.plot import add_changepoints_to_plot\n",
    "from sklearn.metrics import mean_absolute_error, mean_absolute_percentage_error\n",
    "\n",
    "# pycaret에서 나온 best들 \n",
    "# 민수용. ETS/ Theta Forecaster, seasonal naive forecaster, arima, lgbm\n",
    "# 산업용  ETS, theta forecaster, seasonal naive forecaster, arima, lgbm \n",
    "# 총합 : ETS/exponential smoothing, seasonal naive forecaster, lgbm, arima "
   ]
  },
  {
   "cell_type": "code",
   "execution_count": 2,
   "id": "50201186-e9a7-4f68-a90f-8f2c95931d5f",
   "metadata": {},
   "outputs": [],
   "source": [
    "df = pd.read_csv('../../0_data/newdata/new_df_00.csv')"
   ]
  },
  {
   "cell_type": "code",
   "execution_count": 3,
   "id": "0b1295a0-41ef-46b2-85db-8ac2bc7aafc4",
   "metadata": {},
   "outputs": [
    {
     "data": {
      "text/html": [
       "<div>\n",
       "<style scoped>\n",
       "    .dataframe tbody tr th:only-of-type {\n",
       "        vertical-align: middle;\n",
       "    }\n",
       "\n",
       "    .dataframe tbody tr th {\n",
       "        vertical-align: top;\n",
       "    }\n",
       "\n",
       "    .dataframe thead th {\n",
       "        text-align: right;\n",
       "    }\n",
       "</style>\n",
       "<table border=\"1\" class=\"dataframe\">\n",
       "  <thead>\n",
       "    <tr style=\"text-align: right;\">\n",
       "      <th></th>\n",
       "      <th>date</th>\n",
       "      <th>year</th>\n",
       "      <th>month</th>\n",
       "      <th>RP</th>\n",
       "      <th>GAS_PRICE</th>\n",
       "      <th>OIL_PRICE</th>\n",
       "      <th>도시가스_민수용</th>\n",
       "      <th>도시가스_산업용</th>\n",
       "      <th>도시가스_총합</th>\n",
       "      <th>민수용비중</th>\n",
       "      <th>...</th>\n",
       "      <th>명누적성장율</th>\n",
       "      <th>명GDP0.8성장율</th>\n",
       "      <th>명0.8누적성장율</th>\n",
       "      <th>QVA_origin</th>\n",
       "      <th>yearmonth</th>\n",
       "      <th>holirate</th>\n",
       "      <th>month4</th>\n",
       "      <th>month3</th>\n",
       "      <th>cumhouse</th>\n",
       "      <th>kospi_float</th>\n",
       "    </tr>\n",
       "  </thead>\n",
       "  <tbody>\n",
       "    <tr>\n",
       "      <th>0</th>\n",
       "      <td>1996-01-01</td>\n",
       "      <td>1996</td>\n",
       "      <td>1</td>\n",
       "      <td>0.97</td>\n",
       "      <td>26.94</td>\n",
       "      <td>27.86</td>\n",
       "      <td>605519.0</td>\n",
       "      <td>83809.0</td>\n",
       "      <td>689328.0</td>\n",
       "      <td>0.87842</td>\n",
       "      <td>...</td>\n",
       "      <td>11.0</td>\n",
       "      <td>11.0</td>\n",
       "      <td>11.0</td>\n",
       "      <td>36550.3</td>\n",
       "      <td>199601</td>\n",
       "      <td>0.322581</td>\n",
       "      <td>3</td>\n",
       "      <td>2</td>\n",
       "      <td>592132.0</td>\n",
       "      <td>878.82</td>\n",
       "    </tr>\n",
       "    <tr>\n",
       "      <th>1</th>\n",
       "      <td>1996-02-01</td>\n",
       "      <td>1996</td>\n",
       "      <td>2</td>\n",
       "      <td>0.93</td>\n",
       "      <td>26.94</td>\n",
       "      <td>29.04</td>\n",
       "      <td>566323.0</td>\n",
       "      <td>70427.0</td>\n",
       "      <td>636750.0</td>\n",
       "      <td>0.88940</td>\n",
       "      <td>...</td>\n",
       "      <td>11.0</td>\n",
       "      <td>11.0</td>\n",
       "      <td>11.0</td>\n",
       "      <td>36550.3</td>\n",
       "      <td>199602</td>\n",
       "      <td>0.344828</td>\n",
       "      <td>3</td>\n",
       "      <td>2</td>\n",
       "      <td>592132.0</td>\n",
       "      <td>852.83</td>\n",
       "    </tr>\n",
       "    <tr>\n",
       "      <th>2</th>\n",
       "      <td>1996-03-01</td>\n",
       "      <td>1996</td>\n",
       "      <td>3</td>\n",
       "      <td>0.96</td>\n",
       "      <td>26.94</td>\n",
       "      <td>27.99</td>\n",
       "      <td>477514.0</td>\n",
       "      <td>62652.0</td>\n",
       "      <td>540166.0</td>\n",
       "      <td>0.88401</td>\n",
       "      <td>...</td>\n",
       "      <td>11.0</td>\n",
       "      <td>11.0</td>\n",
       "      <td>11.0</td>\n",
       "      <td>36550.3</td>\n",
       "      <td>199603</td>\n",
       "      <td>0.354839</td>\n",
       "      <td>1</td>\n",
       "      <td>2</td>\n",
       "      <td>592132.0</td>\n",
       "      <td>874.16</td>\n",
       "    </tr>\n",
       "  </tbody>\n",
       "</table>\n",
       "<p>3 rows × 32 columns</p>\n",
       "</div>"
      ],
      "text/plain": [
       "         date  year  month    RP  GAS_PRICE  OIL_PRICE  도시가스_민수용  도시가스_산업용  \\\n",
       "0  1996-01-01  1996      1  0.97      26.94      27.86  605519.0   83809.0   \n",
       "1  1996-02-01  1996      2  0.93      26.94      29.04  566323.0   70427.0   \n",
       "2  1996-03-01  1996      3  0.96      26.94      27.99  477514.0   62652.0   \n",
       "\n",
       "    도시가스_총합    민수용비중  ...  명누적성장율  명GDP0.8성장율  명0.8누적성장율  QVA_origin  \\\n",
       "0  689328.0  0.87842  ...    11.0        11.0       11.0     36550.3   \n",
       "1  636750.0  0.88940  ...    11.0        11.0       11.0     36550.3   \n",
       "2  540166.0  0.88401  ...    11.0        11.0       11.0     36550.3   \n",
       "\n",
       "   yearmonth  holirate  month4  month3  cumhouse  kospi_float  \n",
       "0     199601  0.322581       3       2  592132.0       878.82  \n",
       "1     199602  0.344828       3       2  592132.0       852.83  \n",
       "2     199603  0.354839       1       2  592132.0       874.16  \n",
       "\n",
       "[3 rows x 32 columns]"
      ]
     },
     "execution_count": 3,
     "metadata": {},
     "output_type": "execute_result"
    }
   ],
   "source": [
    "df.head(3)"
   ]
  },
  {
   "cell_type": "code",
   "execution_count": 4,
   "id": "8bf75561-7cd5-4b7d-a418-68868870feea",
   "metadata": {},
   "outputs": [
    {
     "data": {
      "text/plain": [
       "Index(['date', 'year', 'month', 'RP', 'GAS_PRICE', 'OIL_PRICE', '도시가스_민수용',\n",
       "       '도시가스_산업용', '도시가스_총합', '민수용비중', '산업용비중', 'QUARTER', 'QVA',\n",
       "       'temp_a_rcp6', 'temp_h_rcp6', 'temp_l_rcp6', 'people', 'GDP', '성장율',\n",
       "       '누적성장율', 'GDP0.8', '명GDP성장율', '명누적성장율', '명GDP0.8성장율', '명0.8누적성장율',\n",
       "       'QVA_origin', 'yearmonth', 'holirate', 'month4', 'month3', 'cumhouse',\n",
       "       'kospi_float'],\n",
       "      dtype='object')"
      ]
     },
     "execution_count": 4,
     "metadata": {},
     "output_type": "execute_result"
    }
   ],
   "source": [
    "df.columns"
   ]
  },
  {
   "cell_type": "code",
   "execution_count": 5,
   "id": "faa849b3-0cac-4c2e-be8d-04931879030b",
   "metadata": {},
   "outputs": [],
   "source": [
    "df.drop(['RP'], axis=1, inplace=True)"
   ]
  },
  {
   "cell_type": "code",
   "execution_count": 6,
   "id": "76ac8de6-03e4-4242-a3b2-6a95b994bf35",
   "metadata": {},
   "outputs": [],
   "source": [
    "#rp만 갈아끼우기\n",
    "rp = pd.read_csv('../../0_data/newdata/gasoilprice/gas_oil_rp_v3.csv')"
   ]
  },
  {
   "cell_type": "code",
   "execution_count": 7,
   "id": "3d46df1d-0853-42ea-abcb-7f66e0381129",
   "metadata": {},
   "outputs": [
    {
     "data": {
      "text/plain": [
       "Index(['date', 'GAS_PRICE', 'OIL_PRICE', 'RP'], dtype='object')"
      ]
     },
     "execution_count": 7,
     "metadata": {},
     "output_type": "execute_result"
    }
   ],
   "source": [
    "rp.columns"
   ]
  },
  {
   "cell_type": "code",
   "execution_count": 8,
   "id": "18f35f71-3367-40ec-8f16-f98fbe487823",
   "metadata": {},
   "outputs": [],
   "source": [
    "rp = rp[['date','RP']]"
   ]
  },
  {
   "cell_type": "code",
   "execution_count": 9,
   "id": "0c8f5fa3-1d79-4457-936c-cb75ab4229a8",
   "metadata": {},
   "outputs": [],
   "source": [
    "df1 = pd.merge(df,rp, how='outer',on='date')"
   ]
  },
  {
   "cell_type": "code",
   "execution_count": 10,
   "id": "4dd02bf4-62fc-4fae-b1a1-b596573539d7",
   "metadata": {},
   "outputs": [
    {
     "data": {
      "text/plain": [
       "Index(['date', 'year', 'month', 'GAS_PRICE', 'OIL_PRICE', '도시가스_민수용',\n",
       "       '도시가스_산업용', '도시가스_총합', '민수용비중', '산업용비중', 'QUARTER', 'QVA',\n",
       "       'temp_a_rcp6', 'temp_h_rcp6', 'temp_l_rcp6', 'people', 'GDP', '성장율',\n",
       "       '누적성장율', 'GDP0.8', '명GDP성장율', '명누적성장율', '명GDP0.8성장율', '명0.8누적성장율',\n",
       "       'QVA_origin', 'yearmonth', 'holirate', 'month4', 'month3', 'cumhouse',\n",
       "       'kospi_float', 'RP'],\n",
       "      dtype='object')"
      ]
     },
     "execution_count": 10,
     "metadata": {},
     "output_type": "execute_result"
    }
   ],
   "source": [
    "df1.columns"
   ]
  },
  {
   "cell_type": "code",
   "execution_count": 11,
   "id": "32cf4286-b6a7-404f-97b7-2c89275534e7",
   "metadata": {},
   "outputs": [
    {
     "data": {
      "text/html": [
       "<div>\n",
       "<style scoped>\n",
       "    .dataframe tbody tr th:only-of-type {\n",
       "        vertical-align: middle;\n",
       "    }\n",
       "\n",
       "    .dataframe tbody tr th {\n",
       "        vertical-align: top;\n",
       "    }\n",
       "\n",
       "    .dataframe thead th {\n",
       "        text-align: right;\n",
       "    }\n",
       "</style>\n",
       "<table border=\"1\" class=\"dataframe\">\n",
       "  <thead>\n",
       "    <tr style=\"text-align: right;\">\n",
       "      <th></th>\n",
       "      <th>date</th>\n",
       "      <th>year</th>\n",
       "      <th>month</th>\n",
       "      <th>GAS_PRICE</th>\n",
       "      <th>OIL_PRICE</th>\n",
       "      <th>도시가스_민수용</th>\n",
       "      <th>도시가스_산업용</th>\n",
       "      <th>도시가스_총합</th>\n",
       "      <th>민수용비중</th>\n",
       "      <th>산업용비중</th>\n",
       "      <th>...</th>\n",
       "      <th>명GDP0.8성장율</th>\n",
       "      <th>명0.8누적성장율</th>\n",
       "      <th>QVA_origin</th>\n",
       "      <th>yearmonth</th>\n",
       "      <th>holirate</th>\n",
       "      <th>month4</th>\n",
       "      <th>month3</th>\n",
       "      <th>cumhouse</th>\n",
       "      <th>kospi_float</th>\n",
       "      <th>RP</th>\n",
       "    </tr>\n",
       "  </thead>\n",
       "  <tbody>\n",
       "    <tr>\n",
       "      <th>0</th>\n",
       "      <td>1996-01-01</td>\n",
       "      <td>1996</td>\n",
       "      <td>1</td>\n",
       "      <td>26.94</td>\n",
       "      <td>27.86</td>\n",
       "      <td>605519.0</td>\n",
       "      <td>83809.0</td>\n",
       "      <td>689328.0</td>\n",
       "      <td>0.87842</td>\n",
       "      <td>0.12158</td>\n",
       "      <td>...</td>\n",
       "      <td>11.0</td>\n",
       "      <td>11.0</td>\n",
       "      <td>36550.3</td>\n",
       "      <td>199601</td>\n",
       "      <td>0.322581</td>\n",
       "      <td>3</td>\n",
       "      <td>2</td>\n",
       "      <td>592132.0</td>\n",
       "      <td>878.82</td>\n",
       "      <td>0.97</td>\n",
       "    </tr>\n",
       "    <tr>\n",
       "      <th>1</th>\n",
       "      <td>1996-02-01</td>\n",
       "      <td>1996</td>\n",
       "      <td>2</td>\n",
       "      <td>26.94</td>\n",
       "      <td>29.04</td>\n",
       "      <td>566323.0</td>\n",
       "      <td>70427.0</td>\n",
       "      <td>636750.0</td>\n",
       "      <td>0.88940</td>\n",
       "      <td>0.11060</td>\n",
       "      <td>...</td>\n",
       "      <td>11.0</td>\n",
       "      <td>11.0</td>\n",
       "      <td>36550.3</td>\n",
       "      <td>199602</td>\n",
       "      <td>0.344828</td>\n",
       "      <td>3</td>\n",
       "      <td>2</td>\n",
       "      <td>592132.0</td>\n",
       "      <td>852.83</td>\n",
       "      <td>0.93</td>\n",
       "    </tr>\n",
       "    <tr>\n",
       "      <th>2</th>\n",
       "      <td>1996-03-01</td>\n",
       "      <td>1996</td>\n",
       "      <td>3</td>\n",
       "      <td>26.94</td>\n",
       "      <td>27.99</td>\n",
       "      <td>477514.0</td>\n",
       "      <td>62652.0</td>\n",
       "      <td>540166.0</td>\n",
       "      <td>0.88401</td>\n",
       "      <td>0.11599</td>\n",
       "      <td>...</td>\n",
       "      <td>11.0</td>\n",
       "      <td>11.0</td>\n",
       "      <td>36550.3</td>\n",
       "      <td>199603</td>\n",
       "      <td>0.354839</td>\n",
       "      <td>1</td>\n",
       "      <td>2</td>\n",
       "      <td>592132.0</td>\n",
       "      <td>874.16</td>\n",
       "      <td>0.96</td>\n",
       "    </tr>\n",
       "  </tbody>\n",
       "</table>\n",
       "<p>3 rows × 32 columns</p>\n",
       "</div>"
      ],
      "text/plain": [
       "         date  year  month  GAS_PRICE  OIL_PRICE  도시가스_민수용  도시가스_산업용  \\\n",
       "0  1996-01-01  1996      1      26.94      27.86  605519.0   83809.0   \n",
       "1  1996-02-01  1996      2      26.94      29.04  566323.0   70427.0   \n",
       "2  1996-03-01  1996      3      26.94      27.99  477514.0   62652.0   \n",
       "\n",
       "    도시가스_총합    민수용비중    산업용비중  ...  명GDP0.8성장율  명0.8누적성장율  QVA_origin  \\\n",
       "0  689328.0  0.87842  0.12158  ...        11.0       11.0     36550.3   \n",
       "1  636750.0  0.88940  0.11060  ...        11.0       11.0     36550.3   \n",
       "2  540166.0  0.88401  0.11599  ...        11.0       11.0     36550.3   \n",
       "\n",
       "   yearmonth  holirate  month4  month3  cumhouse  kospi_float    RP  \n",
       "0     199601  0.322581       3       2  592132.0       878.82  0.97  \n",
       "1     199602  0.344828       3       2  592132.0       852.83  0.93  \n",
       "2     199603  0.354839       1       2  592132.0       874.16  0.96  \n",
       "\n",
       "[3 rows x 32 columns]"
      ]
     },
     "execution_count": 11,
     "metadata": {},
     "output_type": "execute_result"
    }
   ],
   "source": [
    "df1.head(3)"
   ]
  },
  {
   "cell_type": "markdown",
   "id": "b62761e6-b6f6-41a1-aa29-819eb329b5e3",
   "metadata": {},
   "source": [
    "df1.to_csv('../../0_data/newdata/new_df_00_rp3.csv',index=False)"
   ]
  },
  {
   "cell_type": "code",
   "execution_count": 12,
   "id": "aa35c82b-e30f-40d2-8fde-2766b0aa0529",
   "metadata": {},
   "outputs": [],
   "source": [
    "df2 = df1.copy()"
   ]
  },
  {
   "cell_type": "markdown",
   "id": "932b6c96-3c54-42db-91ad-62e461c0f6cd",
   "metadata": {},
   "source": [
    "# 산업용\n",
    "* 현재 best 모델에 RP, GAS_PRICE, OIP_PRICE 등 갈아끼워보기\n",
    "* Exponential smoothing _sp=48 *0.8 , 현재 best"
   ]
  },
  {
   "cell_type": "code",
   "execution_count": 13,
   "id": "13aaa9f5-7470-42cb-9b98-53c4320d39e0",
   "metadata": {},
   "outputs": [],
   "source": [
    "df1['year']=pd.to_datetime(df1['year'])\n",
    "df1 = df1.loc[:299]\n",
    "df1['도시가스_총합'] = df1['도시가스_총합'].astype(int)\n",
    "df1['도시가스_민수용'] = df1['도시가스_민수용'].astype(int)\n",
    "df1['도시가스_산업용'] = df1['도시가스_산업용'].astype(int)\n",
    "fh = list(range(1,169))"
   ]
  },
  {
   "cell_type": "markdown",
   "id": "b162ecd8-fcd4-443d-90da-1e93142964d4",
   "metadata": {
    "tags": []
   },
   "source": [
    "mean: 841821.4623611314 528199.3908484116 1362622.748228815\n",
    "# best 조합\n",
    "forecaster = ExponentialSmoothing(trend='add', seasonal='multiplicative', sp=48)  "
   ]
  },
  {
   "cell_type": "code",
   "execution_count": 14,
   "id": "dd18e535-b9cb-43c5-87c6-e1159f77f0d0",
   "metadata": {},
   "outputs": [
    {
     "name": "stdout",
     "output_type": "stream",
     "text": [
      "mean: 841023.1123528046 min: 499594.8352278117 max: 1430462.8580230735\n"
     ]
    },
    {
     "data": {
      "image/png": "[encoded data removed]",
      "text/plain": [
       "<Figure size 1600x400 with 1 Axes>"
      ]
     },
     "metadata": {},
     "output_type": "display_data"
    }
   ],
   "source": [
    "y = df1['도시가스_산업용'] \n",
    "forecaster = ExponentialSmoothing(trend='add', seasonal='multiplicative', sp=48)  \n",
    "# multiplicative / additive\n",
    "forecaster.fit(y)\n",
    "ExponentialSmoothing(...)\n",
    "y_pred = forecaster.predict(fh)\n",
    "plot_series(y, y_pred, labels=[\"y\", \"y_pred\"])\n",
    "print(\"mean:\",y_pred.mean(), \"min:\",y_pred.min(), \"max:\",y_pred.max())"
   ]
  },
  {
   "cell_type": "markdown",
   "id": "6c995e7c-7ba4-4e46-afc0-7796b955eaf3",
   "metadata": {},
   "source": [
    "## multi_prophet "
   ]
  },
  {
   "cell_type": "code",
   "execution_count": null,
   "id": "4188ab14-462a-4510-85bb-e9296c226515",
   "metadata": {},
   "outputs": [],
   "source": [
    "df2[\"value\"] = df2[\"도시가스_산업용\"]\n",
    "df2 = df2[:300]\n",
    "list(map(lambda x:x.split('-')[0]+x.split('-')[1],df['date']))\n",
    "df1 = df2[['date','value','kospi_float', 'OIL_PRICE', 'people', 'GDP', 'QVA_origin']] \n",
    "train_df = df1.copy()\n",
    "#date,value 포함 그 외 피처 알아서\n",
    "y_train_prophet_df = train_df[['date','value']]\n",
    "y_train_prophet_df.columns = ['ds', 'y']\n",
    "y_train_prophet_df.head()\n",
    "\n",
    "x_col = [i for i in train_df.columns if i not in ['date','value']] \n",
    "x_train_prophet_df = train_df[x_col] \n",
    "x_train_prophet_df.head()"
   ]
  },
  {
   "cell_type": "markdown",
   "id": "114fcc03-7e0c-437d-af8d-69e23dc5d27b",
   "metadata": {},
   "source": [
    " param_grid = {  \n",
    "'changepoint_prior_scale': [0.001, 0.01, 0.1, 0.5],\n",
    "'seasonality_prior_scale': [0.01, 0.1, 1.0, 10.0],\n",
    "'seasonality_mode': ['multiplicative', 'additive'],\n",
    "'growth': ['linear', 'logistic'],\n",
    "'yearly_seasonality':[5,10,20,40],\n",
    "'weekly_seasonality':[5,10,20,40],\n",
    "'daily_seasonality':[5,10,20,40],\n",
    "}"
   ]
  },
  {
   "cell_type": "markdown",
   "id": "baeda0d1-12ec-4427-a5f8-ef7736655834",
   "metadata": {},
   "source": [
    "# best 조합\n",
    "m = Prophet(seasonality_mode='additive', n_changepoints=10, mcmc_samples=300, changepoint_prior_scale=0.025, yearly_seasonality='auto',changepoint_range=0.5).fit(yx_train_prophet_df)  #, sh"
   ]
  },
  {
   "cell_type": "code",
   "execution_count": null,
   "id": "63c6d47b-322f-4b2a-ac38-4b858fbcca4f",
   "metadata": {},
   "outputs": [],
   "source": [
    "from sklearn.preprocessing import StandardScaler, MinMaxScaler, RobustScaler\n",
    "scaler = StandardScaler()\n",
    "scaler.fit(x_train_prophet_df[['kospi_float', 'OIL_PRICE', 'people', 'GDP', 'QVA_origin']])  \n",
    "trans_colum = scaler.transform(x_train_prophet_df[['kospi_float', 'OIL_PRICE', 'people', 'GDP', 'QVA_origin']])  \n",
    "\n",
    "x_train_prophet_df['kospi_float'] = [trans_colum[i][0] for i in range(len(trans_colum))]\n",
    "x_train_prophet_df['OIL_PRICE'] = [trans_colum[i][1] for i in range(len(trans_colum))]\n",
    "x_train_prophet_df['people'] = [trans_colum[i][2] for i in range(len(trans_colum))]\n",
    "x_train_prophet_df['GDP'] = [trans_colum[i][3] for i in range(len(trans_colum))]\n",
    "x_train_prophet_df['QVA_origin'] = [trans_colum[i][3] for i in range(len(trans_colum))]\n",
    "\n",
    "yx_train_prophet_df = pd.concat([y_train_prophet_df, x_train_prophet_df],axis = 1)\n",
    "\n",
    "m = Prophet(seasonality_mode='additive', n_changepoints=10, mcmc_samples=300, changepoint_prior_scale=0.025, yearly_seasonality='auto',changepoint_range=0.5).fit(yx_train_prophet_df)  #, show_progress=False) #0.001\n",
    "# 여기 수정\n",
    "future = m.make_future_dataframe(periods=168, freq='MS')\n",
    "fcst = m.predict(future)\n",
    "fig = m.plot_components(fcst)"
   ]
  },
  {
   "cell_type": "code",
   "execution_count": null,
   "id": "54240e45-93c2-4d79-9cea-70b87e9e74d4",
   "metadata": {},
   "outputs": [],
   "source": [
    "# 모델 저장(score:134,303)\n",
    "import pickle\n",
    "pkl_path = \"../../2_second_model/saved_model/Ann/san4.pkl\"\n",
    "with open(pkl_path, \"wb\") as f:    \n",
    "    pickle.dump(m, f)\n",
    "# read the Prophet model object\n",
    "with open(pkl_path, 'rb') as f:\n",
    "    san_qva_kospi2 = pickle.load(f)\n",
    "fig = san_qva_kospi2.plot(fcst, figsize=(20,10), xlabel='year-month', ylabel='reward amount')"
   ]
  },
  {
   "cell_type": "code",
   "execution_count": null,
   "id": "3a397196-4b36-4eef-8698-2d18d352ec98",
   "metadata": {},
   "outputs": [],
   "source": [
    "# 현재 파일\n",
    "print(fcst['yhat'][-168:].mean(),fcst['yhat'][-168:].min(),fcst['yhat'][-168:].max())"
   ]
  },
  {
   "cell_type": "markdown",
   "id": "728efb8a-68c7-44d7-b64e-530ab43b70bc",
   "metadata": {},
   "source": [
    "# best 조합\n",
    "sub['IND'] =y_pred.values*0.82+fcst['yhat'][-168:].values*0.18\n",
    "841681.4205757922 525347.1564351048 1368964.2921524532"
   ]
  },
  {
   "cell_type": "code",
   "execution_count": null,
   "id": "1e157e8e-535f-4515-b7fa-d8244a0c0122",
   "metadata": {},
   "outputs": [],
   "source": [
    "sub = pd.read_csv('../../0_data/rawdata/submission_sample.csv')\n",
    "sub['IND'] =y_pred.values*0.82+fcst['yhat'][-168:].values*0.18\n",
    "print(sub['IND'].mean(), sub['IND'].min(),sub['IND'].max())"
   ]
  },
  {
   "cell_type": "code",
   "execution_count": null,
   "id": "a69af9a6-ec5c-4ebd-9ba1-e64e13b2dad4",
   "metadata": {},
   "outputs": [],
   "source": [
    "sub['IND'].plot()"
   ]
  },
  {
   "cell_type": "code",
   "execution_count": null,
   "id": "7710cda8-48c2-411b-8c18-d82f87b18862",
   "metadata": {},
   "outputs": [],
   "source": [
    "print(sub['IND'].mean(), sub['IND'].min(),sub['IND'].max()) #790471.1890171387"
   ]
  },
  {
   "cell_type": "markdown",
   "id": "cddb20e0-221c-471e-81da-70007d82c08b",
   "metadata": {},
   "source": [
    "# best 조합"
   ]
  },
  {
   "cell_type": "markdown",
   "id": "25146a12-cfd6-45cc-ba3d-11307eca0eaf",
   "metadata": {},
   "source": [
    "sub = pd.read_csv('../../0_data/rawdata/submission_sample.csv')"
   ]
  },
  {
   "cell_type": "code",
   "execution_count": null,
   "id": "d1566bb0-181a-4f4b-b2dc-86b49c04d3cf",
   "metadata": {},
   "outputs": [],
   "source": [
    "#민수용 best\n",
    "compare = pd.read_csv('../../0_data/newdata/1_prophet_uni/reverse_model')\n",
    "sub['CIVIL'] = compare['CIVIL'].copy()\n",
    "print(sub['CIVIL'].mean(), sub['CIVIL'].min(),sub['CIVIL'].max())"
   ]
  },
  {
   "cell_type": "markdown",
   "id": "b20731d8-be98-4725-b823-107e8562e9d2",
   "metadata": {},
   "source": [
    "#산업용 best\n",
    "san = pd.read_csv('../../3_submit/Ann/san2.csv')\n",
    "sub['IND'] = san['IND'].copy()\n",
    "print(sub['IND'].mean(), sub['IND'].min(),sub['IND'].max())"
   ]
  },
  {
   "cell_type": "code",
   "execution_count": null,
   "id": "8de2bafb-ba32-4264-8bcd-c9eb234a8573",
   "metadata": {},
   "outputs": [],
   "source": [
    "sub['CIVIL'].plot()"
   ]
  },
  {
   "cell_type": "code",
   "execution_count": null,
   "id": "bab0f665-bb59-4cde-b046-4138c309d5d0",
   "metadata": {},
   "outputs": [],
   "source": [
    "sub['IND'].plot()"
   ]
  },
  {
   "cell_type": "code",
   "execution_count": null,
   "id": "e88f2be9-ea8d-4c72-aa46-cdb650a7c4e3",
   "metadata": {},
   "outputs": [],
   "source": [
    "sub.to_csv('../../3_submit/Ann/san4.csv',index=False)"
   ]
  },
  {
   "cell_type": "code",
   "execution_count": null,
   "id": "212f2a13-d042-4998-a57e-b1fe9eb19272",
   "metadata": {},
   "outputs": [],
   "source": [
    "## 끝"
   ]
  },
  {
   "cell_type": "code",
   "execution_count": null,
   "id": "2aeee4f6-1bad-4da3-8e8e-9ab3dc4ceb2f",
   "metadata": {},
   "outputs": [],
   "source": []
  }
 ],
 "metadata": {
  "kernelspec": {
   "display_name": "Python 3 (ipykernel)",
   "language": "python",
   "name": "python3"
  },
  "language_info": {
   "codemirror_mode": {
    "name": "ipython",
    "version": 3
   },
   "file_extension": ".py",
   "mimetype": "text/x-python",
   "name": "python",
   "nbconvert_exporter": "python",
   "pygments_lexer": "ipython3",
   "version": "3.8.13"
  }
 },
 "nbformat": 4,
 "nbformat_minor": 5
}
